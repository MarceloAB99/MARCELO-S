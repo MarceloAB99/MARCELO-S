{
 "cells": [
  {
   "cell_type": "markdown",
   "id": "d7fa42bf-ca12-41e3-b0ed-572b6871818f",
   "metadata": {},
   "source": [
    "Data Science Tools and Ecosystem"
   ]
  },
  {
   "cell_type": "markdown",
   "id": "03cdbddc-4b42-4d86-88f8-00c258db7a52",
   "metadata": {},
   "source": [
    "In this booklet, data science tools and ecosystems are summarized."
   ]
  },
  {
   "cell_type": "markdown",
   "id": "b1cd4664-3795-4f35-a071-2a62b63f107c",
   "metadata": {},
   "source": [
    "**Objetivos:**\n",
    "\n",
    "- Listar lenguajes populares para Ciencia de Datos.  \n",
    "- Explicar el uso de Jupyter Notebook en el análisis de datos.  \n",
    "- Introducir bibliotecas clave para manipulación y visualización de datos.  \n",
    "- Comprender los conceptos básicos de aprendizaje automático.  \n",
    "- Aplicar herramientas de código abierto en ciencia de datos.  "
   ]
  },
  {
   "cell_type": "markdown",
   "id": "d45cce1c-849a-4b85-ad13-1894b91606a0",
   "metadata": {},
   "source": [
    "Some of the popular languages used by data scientists are: \n",
    "1. SQL\n",
    "2. PHYNTON\n",
    "3. R"
   ]
  },
  {
   "cell_type": "markdown",
   "id": "4f84165c-44fe-4130-bd68-3314e431c92c",
   "metadata": {},
   "source": [
    "Some of the popular languages used by data scientists are:\n",
    "1. Pandas\n",
    "2. NumPy\n",
    "3. ggplot2"
   ]
  },
  {
   "cell_type": "markdown",
   "id": "64a6450f-aeea-480f-8bb5-61f3305c7bff",
   "metadata": {},
   "source": [
    "| Data Science tools| Jupyter Notebook  |\n",
    "| Data Science tools| RStudio |\n",
    "| Data Science tools| Apache Spark|"
   ]
  },
  {
   "cell_type": "markdown",
   "id": "8121bdcd-e48a-45d7-b043-cdaf343d36db",
   "metadata": {},
   "source": [
    "The following are some examples of arithmetic expression evaluation in Python"
   ]
  },
  {
   "cell_type": "markdown",
   "id": "9d2be07d-6ac8-4f4f-bb9d-47b5c97c3f73",
   "metadata": {},
   "source": [
    "print ((3*4)+5)\n",
    "#Here is a simple arithmetic expression for multiplying and then adding integers"
   ]
  },
  {
   "cell_type": "code",
   "execution_count": 6,
   "id": "588ceb91-6ea0-4165-8084-e6b25f0e5540",
   "metadata": {},
   "outputs": [
    {
     "name": "stdout",
     "output_type": "stream",
     "text": [
      "17\n"
     ]
    }
   ],
   "source": [
    "print ((3*4)+5)"
   ]
  },
  {
   "cell_type": "code",
   "execution_count": 11,
   "id": "36e15dc8-aad7-4f35-8203-3446ec9ed787",
   "metadata": {},
   "outputs": [
    {
     "data": {
      "text/plain": [
       "3.3333333333333335"
      ]
     },
     "execution_count": 11,
     "metadata": {},
     "output_type": "execute_result"
    }
   ],
   "source": [
    "minutos = 200\n",
    "horas = minutos / 60\n",
    "horas"
   ]
  },
  {
   "cell_type": "code",
   "execution_count": null,
   "id": "631de8f8-5d8a-4b98-96f2-909e208bfbab",
   "metadata": {},
   "outputs": [],
   "source": [
    "## Autor  \n",
    "Marcelo Sebastian Alcarraz Bazan  "
   ]
  }
 ],
 "metadata": {
  "kernelspec": {
   "display_name": "Python 3 (ipykernel)",
   "language": "python",
   "name": "python3"
  },
  "language_info": {
   "codemirror_mode": {
    "name": "ipython",
    "version": 3
   },
   "file_extension": ".py",
   "mimetype": "text/x-python",
   "name": "python",
   "nbconvert_exporter": "python",
   "pygments_lexer": "ipython3",
   "version": "3.12.8"
  }
 },
 "nbformat": 4,
 "nbformat_minor": 5
}
